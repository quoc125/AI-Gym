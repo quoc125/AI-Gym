{
 "cells": [
  {
   "cell_type": "markdown",
   "metadata": {},
   "source": [
    "# Cartpool policy"
   ]
  },
  {
   "cell_type": "code",
   "execution_count": 1,
   "metadata": {},
   "outputs": [],
   "source": [
    "import gym\n",
    "import numpy as np"
   ]
  },
  {
   "cell_type": "code",
   "execution_count": 2,
   "metadata": {},
   "outputs": [],
   "source": [
    "# Create the Cart-Pole game environment\n",
    "env = gym.make('CartPole-v1')"
   ]
  },
  {
   "cell_type": "markdown",
   "metadata": {},
   "source": [
    "# Keep the pole center of the cart. So if the pole fall to the left, the cart goes left. I check the volicity of the pole to ensure that pole does not fall too fast"
   ]
  },
  {
   "cell_type": "code",
   "execution_count": 3,
   "metadata": {},
   "outputs": [
    {
     "name": "stdout",
     "output_type": "stream",
     "text": [
      "Pass\n"
     ]
    }
   ],
   "source": [
    "env.reset()\n",
    "currentAction = 1\n",
    "finish = False\n",
    "i = 0\n",
    "while (not finish and i < 200):\n",
    "    env.render()\n",
    "    state, reward, done, empty = env.step(currentAction)\n",
    "    #Check velocity of the pole and change direction based on it\n",
    "    if (state[2] > 0 ):\n",
    "        #Ensure the pole does not fall too fast\n",
    "        if (state[3] > -1):\n",
    "            currentAction = 1\n",
    "        else:\n",
    "            currentAction = 0\n",
    "\n",
    "    elif (state[2] < 0):\n",
    "        #Ensure the pole does not fall too fast\n",
    "        if (state[3] < 1):\n",
    "            currentAction = 0\n",
    "        else:\n",
    "            currentAction = 1\n",
    "    finish = done\n",
    "    i += reward\n",
    "    if(finish):\n",
    "        print (\"Failed\")\n",
    "print (\"Pass\")"
   ]
  },
  {
   "cell_type": "code",
   "execution_count": 4,
   "metadata": {},
   "outputs": [],
   "source": [
    "env.close()"
   ]
  },
  {
   "cell_type": "code",
   "execution_count": null,
   "metadata": {},
   "outputs": [],
   "source": []
  }
 ],
 "metadata": {
  "kernelspec": {
   "display_name": "Python 3",
   "language": "python",
   "name": "python3"
  },
  "language_info": {
   "codemirror_mode": {
    "name": "ipython",
    "version": 3
   },
   "file_extension": ".py",
   "mimetype": "text/x-python",
   "name": "python",
   "nbconvert_exporter": "python",
   "pygments_lexer": "ipython3",
   "version": "3.7.0"
  }
 },
 "nbformat": 4,
 "nbformat_minor": 2
}
